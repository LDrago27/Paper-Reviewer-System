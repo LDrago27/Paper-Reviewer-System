{
 "cells": [
  {
   "cell_type": "code",
   "execution_count": 1,
   "metadata": {},
   "outputs": [],
   "source": [
    "import pandas as pd\n",
    "import numpy as np\n",
    "from collections import defaultdict\n",
    "import csv\n",
    "import nltk\n",
    "from matplotlib import pyplot as plt\n",
    "import os\n",
    "import re\n",
    "import warnings\n",
    "import random\n",
    "warnings.filterwarnings('ignore')\n",
    "from collections import Counter,defaultdict\n",
    "from nltk import word_tokenize\n",
    "from math import log\n",
    "import string\n",
    "import pickle\n",
    "from math import log\n",
    "\n",
    "import gensim\n",
    "from gensim import corpora\n",
    "from gensim import models\n",
    "from string import digits\n",
    "from collections import defaultdict\n",
    "import ast\n",
    "cwd = os.getcwd()"
   ]
  },
  {
   "cell_type": "code",
   "execution_count": 2,
   "metadata": {},
   "outputs": [],
   "source": [
    "osname = os.name\n",
    "if osname =='Windows':\n",
    "    sym = \"//\"\n",
    "else:\n",
    "    sym = \"/\""
   ]
  },
  {
   "cell_type": "code",
   "execution_count": 3,
   "metadata": {},
   "outputs": [],
   "source": [
    "r_path=cwd+sym+'nips_reviewer_data'+sym+'reviewers.txt'\n",
    "review_df=pd.read_csv(r_path,sep='\\t',header=None)\n",
    "review_df.columns=['sno','name']\n",
    "review_lt=list(review_df.name)\n",
    "review_sno={val:ind for ind,val in enumerate(review_lt)}"
   ]
  },
  {
   "cell_type": "code",
   "execution_count": 4,
   "metadata": {},
   "outputs": [],
   "source": [
    "data_df=pd.read_pickle('data_df.pkl')"
   ]
  },
  {
   "cell_type": "code",
   "execution_count": 6,
   "metadata": {},
   "outputs": [],
   "source": [
    "#paper_local.to_pickle('paper_net.pkl')\n",
    "paper_net=pd.read_pickle('paper_net.pkl')"
   ]
  },
  {
   "cell_type": "code",
   "execution_count": 7,
   "metadata": {},
   "outputs": [],
   "source": [
    "path1=cwd+sym+'Saved_Items'+sym\n",
    "with open(path1+'paper_vec.pkl','rb') as f:\n",
    "    paper_vec=pickle.load(f)\n",
    "with open(path1+'paper_id.pkl','rb') as f:\n",
    "    paper_id=pickle.load(f)"
   ]
  },
  {
   "cell_type": "markdown",
   "metadata": {},
   "source": [
    "### Training"
   ]
  },
  {
   "cell_type": "code",
   "execution_count": 10,
   "metadata": {},
   "outputs": [],
   "source": [
    "id2sn={}\n",
    "for sn,pid in enumerate(paper_id):\n",
    "    id2sn[pid]=sn"
   ]
  },
  {
   "cell_type": "code",
   "execution_count": 11,
   "metadata": {},
   "outputs": [],
   "source": [
    "paper_vec2={}\n",
    "for pid in paper_id:\n",
    "    samp_df=data_df[data_df['id']==pid]\n",
    "    index_lt=samp_df.index\n",
    "    op=[]\n",
    "    for ind in index_lt:\n",
    "        op.append(paper_vec[ind])\n",
    "    paper_vec2[id2sn[pid]]=np.array((sum(op)/len(op)))\n",
    "    "
   ]
  },
  {
   "cell_type": "code",
   "execution_count": 13,
   "metadata": {},
   "outputs": [
    {
     "data": {
      "text/plain": [
       "250"
      ]
     },
     "execution_count": 13,
     "metadata": {},
     "output_type": "execute_result"
    }
   ],
   "source": [
    "len(paper_vec2[0])"
   ]
  },
  {
   "cell_type": "code",
   "execution_count": 41,
   "metadata": {},
   "outputs": [],
   "source": [
    "paper_auth={}\n",
    "for pid in paper_id:\n",
    "    samp_df=data_df[data_df['id']==pid]\n",
    "    index_lt=samp_df.index\n",
    "    op=[]\n",
    "    for ind in index_lt:\n",
    "        op.append(review_sno[samp_df['author'][ind]])\n",
    "    paper_auth[id2sn[pid]]=op"
   ]
  },
  {
   "cell_type": "code",
   "execution_count": 44,
   "metadata": {},
   "outputs": [],
   "source": [
    "'''path1=cwd+sym+'Saved_Items'+sym\n",
    "with open(path1+'paper_auth.pkl','wb') as f:\n",
    "    pickle.dump(paper_auth,f)'''"
   ]
  },
  {
   "cell_type": "code",
   "execution_count": 12,
   "metadata": {},
   "outputs": [],
   "source": [
    "'''path1=cwd+sym+'Saved_Items'+sym\n",
    "with open(path1+'paper_vec2.pkl','wb') as f:\n",
    "    pickle.dump(paper_vec2,f)'''"
   ]
  },
  {
   "cell_type": "code",
   "execution_count": 13,
   "metadata": {},
   "outputs": [],
   "source": [
    "'''path1=cwd+sym+'Saved_Items'+sym\n",
    "with open(path1+'paper_id.pkl','wb') as f:\n",
    "    pickle.dump(paper_id,f)'''"
   ]
  },
  {
   "cell_type": "markdown",
   "metadata": {},
   "source": [
    "### Training"
   ]
  },
  {
   "cell_type": "code",
   "execution_count": 23,
   "metadata": {},
   "outputs": [],
   "source": [
    "adj_list={}\n",
    "for ind,pid in enumerate(paper_id):\n",
    "    samp_df=paper_net[paper_net['src']==pid]\n",
    "    n=len(samp_df)\n",
    "    outlink=[]\n",
    "    for i in range(n):\n",
    "        dest=samp_df['dest'].iloc[i]\n",
    "        if dest in paper_id:\n",
    "            outlink.append(id2sn[dest])\n",
    "    if len(outlink):\n",
    "        adj_list[ind]=outlink\n",
    "    \n"
   ]
  },
  {
   "cell_type": "code",
   "execution_count": 10,
   "metadata": {},
   "outputs": [],
   "source": [
    "'''with open('adj_list.pkl','wb') as f:\n",
    "    pickle.dump(adj_list,f)'''"
   ]
  },
  {
   "cell_type": "markdown",
   "metadata": {},
   "source": [
    "### Loading"
   ]
  },
  {
   "cell_type": "code",
   "execution_count": 25,
   "metadata": {},
   "outputs": [],
   "source": [
    "with open('adj_list.pkl','rb') as f:\n",
    "    adj_list=pickle.load(f)"
   ]
  },
  {
   "cell_type": "code",
   "execution_count": 26,
   "metadata": {},
   "outputs": [],
   "source": [
    "from igraph import * \n",
    "g=Graph(directed=True)\n",
    "n=len(paper_id)\n",
    "g.add_vertices(n)\n",
    "keys=list(adj_list.keys())\n",
    "edge_lt=[]\n",
    "for key in keys:\n",
    "    for ele in adj_list[key]:\n",
    "        #print((key,ele))\n",
    "        edge_lt.append((key,ele))\n",
    "        \n",
    "    "
   ]
  },
  {
   "cell_type": "code",
   "execution_count": 27,
   "metadata": {},
   "outputs": [],
   "source": [
    "g.add_edges(edge_lt)"
   ]
  },
  {
   "cell_type": "code",
   "execution_count": 28,
   "metadata": {},
   "outputs": [],
   "source": [
    "bc=g.bibcoupling()"
   ]
  },
  {
   "cell_type": "code",
   "execution_count": 29,
   "metadata": {},
   "outputs": [],
   "source": [
    "m=len(bc)\n",
    "a=[sum(bc[i])for i in range(m)]"
   ]
  },
  {
   "cell_type": "code",
   "execution_count": 30,
   "metadata": {},
   "outputs": [],
   "source": [
    "cocit=g.cocitation()"
   ]
  },
  {
   "cell_type": "code",
   "execution_count": 31,
   "metadata": {},
   "outputs": [],
   "source": [
    "m=len(cocit)\n",
    "b=[sum(cocit[i])for i in range(m)]"
   ]
  },
  {
   "cell_type": "code",
   "execution_count": 32,
   "metadata": {},
   "outputs": [],
   "source": [
    "g.to_undirected()\n",
    "dist=g.shortest_paths_dijkstra()"
   ]
  },
  {
   "cell_type": "code",
   "execution_count": 33,
   "metadata": {},
   "outputs": [],
   "source": [
    "cocit_mat=b\n",
    "bc_mat=a"
   ]
  },
  {
   "cell_type": "code",
   "execution_count": 25,
   "metadata": {},
   "outputs": [
    {
     "data": {
      "text/plain": [
       "\"'with open(path1+'distance.pkl','wb') as f:\\n    pickle.dump(dist,f)\""
      ]
     },
     "execution_count": 25,
     "metadata": {},
     "output_type": "execute_result"
    }
   ],
   "source": [
    "'''path1=cwd+sym+'Saved_Items'+sym\n",
    "with open(path1+'cocit.pkl','wb') as f:\n",
    "    pickle.dump(cocit_mat,f)\n",
    "with open(path1+'bibcoupling.pkl','wb') as f:\n",
    "    pickle.dump(bc_mat,f)\n",
    "with open(path1+'distance.pkl','wb') as f:\n",
    "    pickle.dump(dist,f)'''"
   ]
  },
  {
   "cell_type": "code",
   "execution_count": null,
   "metadata": {},
   "outputs": [],
   "source": []
  }
 ],
 "metadata": {
  "kernelspec": {
   "display_name": "Python 3",
   "language": "python",
   "name": "python3"
  },
  "language_info": {
   "codemirror_mode": {
    "name": "ipython",
    "version": 3
   },
   "file_extension": ".py",
   "mimetype": "text/x-python",
   "name": "python",
   "nbconvert_exporter": "python",
   "pygments_lexer": "ipython3",
   "version": "3.7.3"
  }
 },
 "nbformat": 4,
 "nbformat_minor": 2
}
