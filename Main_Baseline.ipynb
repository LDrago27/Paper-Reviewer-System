{
 "cells": [
  {
   "cell_type": "code",
   "execution_count": 180,
   "metadata": {},
   "outputs": [],
   "source": [
    "import pandas as pd\n",
    "import numpy as np\n",
    "from collections import defaultdict\n",
    "import csv\n",
    "import nltk\n",
    "from matplotlib import pyplot as plt\n",
    "import os\n",
    "import re\n",
    "import warnings\n",
    "import random\n",
    "warnings.filterwarnings('ignore')\n",
    "from collections import Counter,defaultdict\n",
    "from nltk import word_tokenize\n",
    "from math import log\n",
    "import string\n",
    "import pickle\n",
    "from math import log\n",
    "import gensim\n",
    "from gensim import corpora\n",
    "from gensim import models\n",
    "from string import digits\n",
    "from collections import defaultdict\n",
    "from scipy.spatial.distance import cosine\n",
    "import ast\n",
    "cwd = os.getcwd()"
   ]
  },
  {
   "cell_type": "code",
   "execution_count": 2,
   "metadata": {},
   "outputs": [],
   "source": [
    "osname = os.name\n",
    "if osname =='Windows':\n",
    "    sym = \"//\"\n",
    "else:\n",
    "    sym = \"/\""
   ]
  },
  {
   "cell_type": "code",
   "execution_count": 3,
   "metadata": {},
   "outputs": [],
   "source": [
    "r_path=cwd+sym+'nips_reviewer_data'+sym+'reviewers.txt'\n",
    "review_df=pd.read_csv(r_path,sep='\\t',header=None)\n",
    "review_df.columns=['sno','name']\n",
    "review_lt=list(review_df.name)\n",
    "review_sno={val:ind for ind,val in enumerate(review_lt)}"
   ]
  },
  {
   "cell_type": "markdown",
   "metadata": {},
   "source": [
    "## Loading Necessary files"
   ]
  },
  {
   "cell_type": "code",
   "execution_count": 393,
   "metadata": {},
   "outputs": [],
   "source": [
    "path1=cwd+sym+'Saved_Items'+sym\n",
    "with open(path1+'dictionary.pkl','rb') as f:\n",
    "    dictionary=pickle.load(f)\n",
    "with open(path1+'tfidf.pkl','rb') as f:\n",
    "    tfidf=pickle.load(f)\n",
    "with open(path1+'ldaModel250','rb') as f:\n",
    "    lda_model=pickle.load(f)\n",
    "with open(path1+'cocit.pkl','rb') as f:\n",
    "    cocit_mat=pickle.load(f)\n",
    "with open(path1+'bibcoupling.pkl','rb') as f:\n",
    "    bc_mat=pickle.load(f)\n",
    "with open(path1+'distance.pkl','rb') as f:\n",
    "    dist=pickle.load(f)\n",
    "with open(path1+'paper_vec2.pkl','rb') as f:\n",
    "    paper_vec2=pickle.load(f)\n",
    "with open(path1+'paper_id.pkl','rb') as f:\n",
    "    paper_id=pickle.load(f)\n",
    "with open(path1+'reviewer_vec.pkl','rb') as f:\n",
    "    reviewer_vec=pickle.load(f)\n",
    "with open(path1+'topic_community.pkl','rb') as f:\n",
    "    topic_comm=pickle.load(f)\n",
    "with open(path1+'paper_auth.pkl','rb') as f:\n",
    "    paper_auth=pickle.load(f)\n",
    "with open(path1+'reviewer_matrix.pkl','rb') as f:\n",
    "    reviewer_matrix=pickle.load(f)\n",
    "with open(path1+'reviewer_vec_bow.pkl','rb') as f:\n",
    "    reviewer_vec_bow=pickle.load(f)\n",
    "reviewer_detail=pd.read_pickle(path1+'auth_detail.pkl')"
   ]
  },
  {
   "cell_type": "code",
   "execution_count": 543,
   "metadata": {},
   "outputs": [],
   "source": [
    "with open(path1+'reviewer_matrix_temp.pkl','rb') as f:\n",
    "    reviewer_matrix=pickle.load(f)"
   ]
  },
  {
   "cell_type": "markdown",
   "metadata": {},
   "source": [
    "## New Paper's Title and Abstract"
   ]
  },
  {
   "cell_type": "code",
   "execution_count": 5,
   "metadata": {},
   "outputs": [],
   "source": [
    "title='Learning from Multiple Sources'\n",
    "abstract='''\n",
    "Categorization is a central activity of human cognition. When an individual is asked to categorize a sequence of items, context effects arise: categorization of one item influences category decisions for subsequent items. Specifically, when experimental subjects are shown an exemplar of some target category, the category prototype appears to be pulled toward the exemplar, and the prototypes of all nontarget categories appear to be pushed away. These push and pull effects diminish with experience, and likely reflect long-term learning of category boundaries. We propose and evaluate four principled probabilistic (Bayesian) accounts of context effects in categorization. In all four accounts, the probability of an exemplar given a category is encoded as a Gaussian density in feature space, and categorization involves computing category posteriors given an exemplar. The models differ in how the uncertainty distribution of category prototypes is represented (localist or distributed), and how it is updated following each experience (using a maximum likelihood gradient ascent, or a Kalman filter update). We find that the distributed maximum-likelihood model can explain the key experimental phenomena. Further, the model predicts other phenomena that were confirmed via reanalysis of the experimental data. Categorization is a central activity of human cognition. We continually make decisions about characteristics of objects and individuals: Is the fruit ripe? Does your friend seem unhappy? Is your car tire flat? Should this manuscript be accepted for publication in NIPS? When an individual is asked to categorize a sequence of items, context effects arise: categorization of one item influences category decisions for subsequent items. Intuitive naturalistic scenarios in which context effects occur are easy to imagine. For example, if one lifts a medium-weight object after lifting a light-weight or heavy-weight object, the medium weight feels heavier following the light weight than following the heavy weight. Although the object-contrast effect might be due to fatigue of sensory-motor systems, many context effects in categorization are purely cognitive and cannot easily be attributed to neural habituation. For example, if you are reviewing a set of conference papers, and the first three in the set are dreadful, then even a mediocre paper seems like it might be above threshold for acceptance. Another example of a category boundary shift due to context is the following. Suppose you move from San Diego to Pittsburgh and notice that your neighbors repeatedly describe muggy, somewhat overcast days as Ólovely.Ó Eventually, your notion of what constitutes a lovely day accommodates to your new surroundings. As we describe shortly, experimental studies have shown a fundamental link between context effects in categorization and long-term learning of category boundaries. We believe that context effects can be viewed as a reflection of a trial-to-trial learning, and the cumulative effect of these trial-to-trial modulations corresponds to what we classically consider to be category learning. Consequently, any compelling model of category learning should also be capable of explaining context effects. stimulus dimension ABCD example Figure 1: Schematic depiction of sequential effects in categorization \n",
    "'''\n",
    "text=title+abstract"
   ]
  },
  {
   "cell_type": "markdown",
   "metadata": {},
   "source": [
    "## PreProcessing"
   ]
  },
  {
   "cell_type": "code",
   "execution_count": 6,
   "metadata": {},
   "outputs": [
    {
     "data": {
      "text/plain": [
       "'groot'"
      ]
     },
     "execution_count": 6,
     "metadata": {},
     "output_type": "execute_result"
    }
   ],
   "source": [
    "from nltk.corpus import stopwords \n",
    "from nltk.stem import PorterStemmer\n",
    "st = set(stopwords.words('english'))\n",
    "from nltk.stem import WordNetLemmatizer \n",
    "import re\n",
    "\n",
    "def cleantext(text):\n",
    "    \n",
    "    remove_digits = str.maketrans('', '', digits)\n",
    "    text = text.translate(remove_digits)\n",
    "    \n",
    "    # remove punctuation\n",
    "    table = str.maketrans(string.punctuation, ' '*len(string.punctuation))\n",
    "    strip = text.translate(table)\n",
    "    \n",
    "    \n",
    "    # Tokenizer\n",
    "    tokens = word_tokenize(strip)\n",
    "    \n",
    "    # Convert into lower case \n",
    "    proc_text = [w.lower() for w in tokens]\n",
    "    \n",
    "    # Remove stopwords\n",
    "    proc_text = [word for word in proc_text if word not in st]\n",
    "    \n",
    "    \n",
    "    #Storing only Lemmmatized words\n",
    "    lemmatizer=WordNetLemmatizer()\n",
    "    lemma_text=[lemmatizer.lemmatize(word) for word in proc_text]\n",
    "\n",
    "    return \" \".join(lemma_text)\n",
    "\n",
    "\n",
    "t = \"i am groot2'7\"    \n",
    "cleantext(t)"
   ]
  },
  {
   "cell_type": "code",
   "execution_count": 7,
   "metadata": {},
   "outputs": [],
   "source": [
    "def get_column_slice(array_or_dataframe,coloumn):\n",
    "    return np.asarray(array_or_dataframe)[:, coloumn]"
   ]
  },
  {
   "cell_type": "code",
   "execution_count": 8,
   "metadata": {},
   "outputs": [],
   "source": [
    "num_topics=250"
   ]
  },
  {
   "cell_type": "markdown",
   "metadata": {},
   "source": [
    "## Consolidated Functions "
   ]
  },
  {
   "cell_type": "code",
   "execution_count": 9,
   "metadata": {},
   "outputs": [],
   "source": [
    "def topic_level(text):\n",
    "    # Loading saved Lda model,dictionary,tfidf vectorizer\n",
    "    \n",
    "    clean_text=list(word_tokenize(cleantext(text))) \n",
    "    bow_text=dictionary.doc2bow(clean_text)\n",
    "    tfidf_text=tfidf[bow_text]\n",
    "    topic=lda_model[tfidf_text]\n",
    "\n",
    "    topic_vec=np.zeros(num_topics)\n",
    "    for ind,wt in topic:\n",
    "        topic_vec[ind]=wt\n",
    "    \n",
    "    # Topic of interest and community\n",
    "    \n",
    "    no_top_topic=5\n",
    "    toi=[]#topic of interest\n",
    "    if len(topic)<no_top_topic:\n",
    "        for ind,wt in topic:\n",
    "            toi.append(ind)\n",
    "    else:\n",
    "        topic.sort(key=lambda x:x[1],reverse=True)\n",
    "        for i in range(no_top_topic):\n",
    "            toi.append(topic[i][0])\n",
    "\n",
    "    \n",
    "    toi_comm=[topic_comm[i] for i in toi]\n",
    "    toi_comm=set(toi_comm)\n",
    "    topic_rest=[]\n",
    "    for index,comm_no in enumerate(topic_comm):\n",
    "        if comm_no in toi_comm and not index in toi:\n",
    "            topic_rest.append(index)\n",
    "    \n",
    "    return topic_vec,toi,topic_rest"
   ]
  },
  {
   "cell_type": "code",
   "execution_count": 10,
   "metadata": {},
   "outputs": [],
   "source": [
    "def paper_level(toi,topic_rest):\n",
    "    poi=[]#papers having maximuim content of toi\n",
    "    paper_vec_lt=list(paper_vec2.values())\n",
    "    for i in toi:\n",
    "        samp=get_column_slice(paper_vec_lt,i)\n",
    "        ind=np.argmax(np.array(samp))\n",
    "        poi.append(ind)\n",
    "    puc=[]#papers under consideration\n",
    "    for i in topic_rest:\n",
    "        topic_paper=get_column_slice(paper_vec_lt,i)\n",
    "        n1=len(np.where(topic_paper>0)[0])\n",
    "        thres=sum(topic_paper)/n1\n",
    "        ind_list=np.where(topic_paper>thres)[0]\n",
    "        for ele in ind_list:\n",
    "            puc.append(ele)\n",
    "    puc=list(set(puc))\n",
    "    \n",
    "    paper_scr=[]\n",
    "    for i in puc:\n",
    "        num=bc_mat[i]+cocit_mat[i]\n",
    "        den=min([dist[i][j] for j in poi])\n",
    "        if den==0:\n",
    "            scr=float('inf')\n",
    "        else:\n",
    "            scr=num/den\n",
    "        paper_scr.append((scr,i))\n",
    "    \n",
    "    scr=[scr for scr,ind in paper_scr]\n",
    "    paper_scr.sort(reverse=True)\n",
    "    for i in range(300):\n",
    "        poi.append(paper_scr[i][1])\n",
    "    val=np.percentile(scr,75)# taking into acccount only top 25% entries\n",
    "    potential_paper=[]\n",
    "    for score,ind in paper_scr:\n",
    "        if score>val:\n",
    "            potential_paper.append(ind)\n",
    "    \n",
    "    \n",
    "    return poi,potential_paper\n"
   ]
  },
  {
   "cell_type": "code",
   "execution_count": 110,
   "metadata": {},
   "outputs": [],
   "source": [
    "def reviewer_pred(poi,potential_paper,topic_vec,text):\n",
    "    roi=[]\n",
    "    ct_roi=[]\n",
    "    for i in poi:\n",
    "        roi=roi+paper_auth[i]\n",
    "    #print(len(set(roi)))\n",
    "    rest_reviewer=[]\n",
    "    for i in potential_paper:\n",
    "        if not paper_auth[i] in roi:\n",
    "            rest_reviewer=rest_reviewer+paper_auth[i]\n",
    "    \n",
    "    \n",
    "    \n",
    "    npaper=list(reviewer_detail['pc'])\n",
    "    citn=list(reviewer_detail['cn'])\n",
    "    \n",
    "    clean_text=list(word_tokenize(cleantext(text))) \n",
    "    bow_text=dictionary.doc2bow(clean_text)\n",
    "    tfidf_text=tfidf[bow_text]\n",
    "    n=len(dictionary)\n",
    "\n",
    "    bow_vec=np.zeros(n, dtype = float)\n",
    "    for ind,wt in tfidf_text:\n",
    "        bow_vec[ind]=wt    \n",
    "    \n",
    "    dec_scr=[]\n",
    "    for i in roi:\n",
    "        sim=1-cosine(reviewer_vec[i],topic_vec)\n",
    "        bow_scr=1-cosine(reviewer_vec_bow[i],bow_vec)\n",
    "        if np.isnan(sim):\n",
    "            sim=0\n",
    "        if np.isnan(bow_scr):\n",
    "            bow_scr=0\n",
    "        #val=0.1*npaper[i]/max(npaper)+0.1*citn[i]/max(citn)+0.8*sim\n",
    "        val=0.6*sim+0.4*bow_scr\n",
    "        #val2=npaper[i]/max(npaper)+citn[i]/max(citn)\n",
    "        dec_scr.append((val,i))\n",
    "    dec_scr.sort(reverse=True)\n",
    "    start_node=dec_scr[0][1]\n",
    "    \n",
    "    n=len(review_lt)\n",
    "    total_node=set([i for i in range(n)])\n",
    "    invalid_node=total_node-set(roi)-set(rest_reviewer)\n",
    "    \n",
    "    custom_matrix=[]\n",
    "    for i in range(n):\n",
    "        temp=[]\n",
    "        for j in range(n):\n",
    "            temp.append(reviewer_matrix[i][j])\n",
    "        custom_matrix.append(np.array(temp))\n",
    "    for node in invalid_node:\n",
    "        for i in range(n):\n",
    "            custom_matrix[node][i]=0\n",
    "            custom_matrix[i][node]=0\n",
    "    col_sum=[sum(x) for x in zip(*custom_matrix)]\n",
    "\n",
    "    transition_prob=[]\n",
    "    for i in range(n):\n",
    "        op=[]\n",
    "        for j in range(n):\n",
    "            if col_sum[j]:\n",
    "                val=custom_matrix[i][j]/col_sum[j]\n",
    "            else:\n",
    "                val=0\n",
    "            op.append(val)\n",
    "        transition_prob.append(op)\n",
    "        \n",
    "    ini_state=[0]*n\n",
    "    ini_state[start_node]=1\n",
    "    len_op=10#No of items to be shown as output\n",
    "    new_state=ini_state\n",
    "    for i in range(len_op):\n",
    "        new_state=np.dot(0.85,np.dot(transition_prob,new_state))+np.dot(0.15,ini_state)\n",
    "        \n",
    "    op=new_state.argsort()[-10:][::-1]\n",
    "    #op=new_state.argsort()[::-1]\n",
    "    res=[ele+1 for ele in op]\n",
    "    \n",
    "    return res\n",
    "    "
   ]
  },
  {
   "cell_type": "code",
   "execution_count": 111,
   "metadata": {},
   "outputs": [],
   "source": [
    "def predict(text):\n",
    "    topic_vec,toi,topic_rest=topic_level(text)\n",
    "    poi,potential_paper=paper_level(toi,topic_rest)\n",
    "    pred=reviewer_pred(poi,potential_paper,topic_vec,text)\n",
    "    \n",
    "    return pred"
   ]
  },
  {
   "cell_type": "markdown",
   "metadata": {},
   "source": [
    "## Evaluation"
   ]
  },
  {
   "cell_type": "code",
   "execution_count": 13,
   "metadata": {},
   "outputs": [],
   "source": [
    "path=path1+'Testing'+sym+'trec_judgments.txt'\n",
    "ordinal=[]\n",
    "value=[]\n",
    "judge={}\n",
    "with open(path,'r',encoding=\"utf8\")as f:\n",
    "    for line in f:\n",
    "        ordinal=list(line.split('\\t'))\n",
    "        value=[int(ordinal[2]),int(ordinal[3][:-1])]\n",
    "        if int(ordinal[0][4:]) in judge:\n",
    "            judge[int(ordinal[0][4:])].append(value)\n",
    "        else :\n",
    "            judge[int(ordinal[0][4:])]=[value]\n",
    "            \n",
    "path=path1+'Testing'+sym+'trec_judgments_additional.txt'\n",
    "with open(path,'r',encoding=\"utf8\")as f:\n",
    "    for line in f:\n",
    "        ordinal=list(line.split('\\t'))\n",
    "        value=[int(ordinal[2]),int(ordinal[3][:-1])]\n",
    "        if int(ordinal[0]) in judge:\n",
    "            judge[int(ordinal[0])].append(value)\n",
    "        else :\n",
    "            judge[int(ordinal[0])]=[value]\n"
   ]
  },
  {
   "cell_type": "code",
   "execution_count": 14,
   "metadata": {},
   "outputs": [],
   "source": [
    "def precision_k(res,gnd_tht,k,paper_no):\n",
    "    actual=gnd_tht[paper_no]\n",
    "    actual_auth=[i[0] for i in actual]\n",
    "    rating=[i[1] for i in actual]\n",
    "    n=len(actual)\n",
    "    soft_p=0\n",
    "    for i in range(k):\n",
    "        pred=res[i]\n",
    "        for j in range(n):\n",
    "            if actual_auth[j]==pred:\n",
    "                if rating[j]==3:\n",
    "                    soft_p+=1\n",
    "                elif rating[j]==2:\n",
    "                    soft_p+=0.67\n",
    "                elif rating[j]==1:\n",
    "                    soft_p+=0.33\n",
    "                else:\n",
    "                    break\n",
    "    soft_p=soft_p/k\n",
    "    return soft_p"
   ]
  },
  {
   "cell_type": "code",
   "execution_count": 17,
   "metadata": {},
   "outputs": [],
   "source": [
    "test_abs=pd.read_pickle('test_abs')\n",
    "n=len(test_abs)\n",
    "ctr=0\n",
    "avg_precision=[0]*11\n",
    "valid_file=list(judge.keys())\n",
    "for i in range(n):\n",
    "    if i in valid_file:        \n",
    "        res=predict(test_abs['abstract'].iloc[i])\n",
    "        #print(res)\n",
    "        for k in range(1,11):\n",
    "            avg_precision[k]+=precision_k(res,judge,k,i)\n",
    "        ctr+=1\n",
    "avg_precision=[ele/ctr for ele in avg_precision]"
   ]
  },
  {
   "cell_type": "code",
   "execution_count": 18,
   "metadata": {},
   "outputs": [
    {
     "data": {
      "text/plain": [
       "[0.3332352941176471,\n",
       " 0.396764705882353,\n",
       " 0.316764705882353,\n",
       " 0.2669852941176471,\n",
       " 0.27041176470588235,\n",
       " 0.2547549019607844,\n",
       " 0.24357142857142863,\n",
       " 0.23025735294117644,\n",
       " 0.22098039215686271,\n",
       " 0.2194705882352941]"
      ]
     },
     "execution_count": 18,
     "metadata": {},
     "output_type": "execute_result"
    }
   ],
   "source": [
    "avg_precision[1:]"
   ]
  },
  {
   "cell_type": "markdown",
   "metadata": {},
   "source": [
    "## Handling Reviewers not present in Ground Thruth"
   ]
  },
  {
   "cell_type": "code",
   "execution_count": 42,
   "metadata": {},
   "outputs": [],
   "source": [
    "def reviewer_404(res,ground_tht,paper_no):\n",
    "    actual=ground_tht[paper_no]\n",
    "    actual_auth=[i[0] for i in actual]\n",
    "    rating=[i[1] for i in actual]\n",
    "    n=len(actual)\n",
    "    output=[]\n",
    "    for auth in res:\n",
    "        if auth not in actual_auth:\n",
    "            sim_scr=[0]*4\n",
    "            count=[0]*4\n",
    "            vec1=reviewer_vec_bow[auth-1]\n",
    "            for i in range(n):\n",
    "                val=1-cosine(vec1,reviewer_vec_bow[actual_auth[i]-1])\n",
    "                if np.isnan(val):\n",
    "                    val=0\n",
    "                sim_scr[rating[i]]+=val\n",
    "                count[rating[i]]+=1\n",
    "            sim_scr=[sim_scr[i]/count[i] for i in range(4) if count[i]]\n",
    "            max_scr=max(sim_scr)\n",
    "            ind=sim_scr.index(max_scr)\n",
    "\n",
    "            output.append([auth,ind])\n",
    "            #print(sim_scr)\n",
    "    return output\n",
    "                \n",
    "    \n",
    "    \n",
    "    "
   ]
  },
  {
   "cell_type": "code",
   "execution_count": 33,
   "metadata": {},
   "outputs": [],
   "source": [
    "res1=predict(test_abs['abstract'].iloc[0])\n",
    "op=reviewer_404(res1,judge,0)"
   ]
  },
  {
   "cell_type": "code",
   "execution_count": 34,
   "metadata": {},
   "outputs": [
    {
     "data": {
      "text/plain": [
       "[[162, 3], [234, 2], [23, 3], [12, 0], [164, 0]]"
      ]
     },
     "execution_count": 34,
     "metadata": {},
     "output_type": "execute_result"
    }
   ],
   "source": [
    "op"
   ]
  },
  {
   "cell_type": "code",
   "execution_count": 536,
   "metadata": {},
   "outputs": [],
   "source": [
    "def precision_k_404(res,gnd_tht,k,paper_no):\n",
    "    actual=gnd_tht[paper_no]\n",
    "    actual_auth=[i[0] for i in actual]\n",
    "    rating=[i[1] for i in actual]\n",
    "    n=len(actual)\n",
    "    soft_p=0\n",
    "    for i in range(k):\n",
    "        pred=res[i]\n",
    "        for j in range(n):\n",
    "            if actual_auth[j]==pred:\n",
    "                if rating[j]==3:\n",
    "                    soft_p+=1\n",
    "                elif rating[j]==2:\n",
    "                    soft_p+=1\n",
    "                elif rating[j]==1:\n",
    "                    soft_p+=0\n",
    "                else:\n",
    "                    break\n",
    "    rating_gen=reviewer_404(res,gnd_tht,paper_no)\n",
    "    auth_gen=[i[0] for i in rating_gen]\n",
    "    rating_gen=[i[1] for i in rating_gen]\n",
    "    n1=len(auth_gen)\n",
    "    for i in range(k):\n",
    "        pred=res[i]\n",
    "        for j in range(n1):\n",
    "            if auth_gen[j]==pred:\n",
    "                if rating_gen[j]==3:\n",
    "                    soft_p+=1\n",
    "                elif rating_gen[j]==2:\n",
    "                    soft_p+=1\n",
    "                elif rating_gen[j]==1:\n",
    "                    soft_p+=0\n",
    "                else:\n",
    "                    break\n",
    "    soft_p=soft_p/k\n",
    "    return soft_p"
   ]
  },
  {
   "cell_type": "code",
   "execution_count": 544,
   "metadata": {},
   "outputs": [],
   "source": [
    "test_abs=pd.read_pickle('test_abs')\n",
    "n=len(test_abs)\n",
    "ctr=0\n",
    "avg_precision=[0]*11\n",
    "valid_file=list(judge.keys())\n",
    "for i in range(n):\n",
    "    if i in valid_file:        \n",
    "        res=predict(test_abs['abstract'].iloc[i])\n",
    "        #print(res)\n",
    "        for k in range(1,11):\n",
    "            avg_precision[k]+=precision_k_404(res,judge,k,i)\n",
    "        ctr+=1\n",
    "avg_precision=[ele/ctr for ele in avg_precision]"
   ]
  },
  {
   "cell_type": "code",
   "execution_count": 545,
   "metadata": {
    "scrolled": true
   },
   "outputs": [
    {
     "data": {
      "text/plain": [
       "[0.5588235294117647,\n",
       " 0.5,\n",
       " 0.5490196078431372,\n",
       " 0.5514705882352942,\n",
       " 0.5470588235294118,\n",
       " 0.5441176470588236,\n",
       " 0.5504201680672269,\n",
       " 0.5551470588235294,\n",
       " 0.5522875816993464,\n",
       " 0.5588235294117647]"
      ]
     },
     "execution_count": 545,
     "metadata": {},
     "output_type": "execute_result"
    }
   ],
   "source": [
    "avg_precision[1:]"
   ]
  },
  {
   "cell_type": "markdown",
   "metadata": {},
   "source": [
    "### Insight about our results"
   ]
  },
  {
   "cell_type": "code",
   "execution_count": 20,
   "metadata": {},
   "outputs": [],
   "source": [
    "def gndtht_stats(res,gnd_tht,paper_no):\n",
    "    actual=gnd_tht[paper_no]\n",
    "    actual_auth=[i[0] for i in actual]\n",
    "    rating=[i[1] for i in actual]\n",
    "    ctr_3=0\n",
    "    ctr_2=0\n",
    "    ctr_1=0\n",
    "    ctr_0=0\n",
    "    ctr_not=0    \n",
    "    for ele in res:\n",
    "        if ele in actual_auth:\n",
    "            ind=actual_auth.index(ele)\n",
    "            if rating[ind]==3:\n",
    "                ctr_3+=1\n",
    "            elif rating[ind]==2:\n",
    "                ctr_2+=1\n",
    "            elif rating[ind]==1:\n",
    "                ctr_1+=1\n",
    "            else:\n",
    "                ctr_0+=1\n",
    "        else:\n",
    "            ctr_not+=1\n",
    "    return ctr_3,ctr_2,ctr_1,ctr_0,ctr_not"
   ]
  },
  {
   "cell_type": "code",
   "execution_count": 21,
   "metadata": {},
   "outputs": [],
   "source": [
    "test_abs=pd.read_pickle('test_abs')\n",
    "n=len(test_abs)\n",
    "ctr=0\n",
    "avg_precision=[0]*11\n",
    "valid_file=list(judge.keys())\n",
    "op=[]\n",
    "for i in range(n):\n",
    "    if i in valid_file:        \n",
    "        res=predict(test_abs['abstract'].iloc[i])\n",
    "        #print(res)\n",
    "        res1=gndtht_stats(res,judge,i)\n",
    "        op.append([i,res1])"
   ]
  },
  {
   "cell_type": "code",
   "execution_count": 22,
   "metadata": {},
   "outputs": [
    {
     "name": "stdout",
     "output_type": "stream",
     "text": [
      "File Id: 0\n",
      "No of judgement with rel 3: 2\n",
      "No of judgement with rel 2: 0\n",
      "No of judgement with rel 1: 3\n",
      "No of judgement with rel 0: 0\n",
      "No of judgement not in ground thruth: 5\n",
      "######################################\n",
      "File Id: 1\n",
      "No of judgement with rel 3: 0\n",
      "No of judgement with rel 2: 4\n",
      "No of judgement with rel 1: 1\n",
      "No of judgement with rel 0: 1\n",
      "No of judgement not in ground thruth: 4\n",
      "######################################\n",
      "File Id: 2\n",
      "No of judgement with rel 3: 0\n",
      "No of judgement with rel 2: 1\n",
      "No of judgement with rel 1: 2\n",
      "No of judgement with rel 0: 2\n",
      "No of judgement not in ground thruth: 5\n",
      "######################################\n",
      "File Id: 3\n",
      "No of judgement with rel 3: 1\n",
      "No of judgement with rel 2: 0\n",
      "No of judgement with rel 1: 0\n",
      "No of judgement with rel 0: 3\n",
      "No of judgement not in ground thruth: 6\n",
      "######################################\n",
      "File Id: 4\n",
      "No of judgement with rel 3: 0\n",
      "No of judgement with rel 2: 2\n",
      "No of judgement with rel 1: 0\n",
      "No of judgement with rel 0: 1\n",
      "No of judgement not in ground thruth: 7\n",
      "######################################\n",
      "File Id: 5\n",
      "No of judgement with rel 3: 2\n",
      "No of judgement with rel 2: 0\n",
      "No of judgement with rel 1: 1\n",
      "No of judgement with rel 0: 1\n",
      "No of judgement not in ground thruth: 6\n",
      "######################################\n",
      "File Id: 10\n",
      "No of judgement with rel 3: 1\n",
      "No of judgement with rel 2: 0\n",
      "No of judgement with rel 1: 2\n",
      "No of judgement with rel 0: 4\n",
      "No of judgement not in ground thruth: 3\n",
      "######################################\n",
      "File Id: 11\n",
      "No of judgement with rel 3: 2\n",
      "No of judgement with rel 2: 1\n",
      "No of judgement with rel 1: 1\n",
      "No of judgement with rel 0: 1\n",
      "No of judgement not in ground thruth: 5\n",
      "######################################\n",
      "File Id: 13\n",
      "No of judgement with rel 3: 3\n",
      "No of judgement with rel 2: 2\n",
      "No of judgement with rel 1: 1\n",
      "No of judgement with rel 0: 0\n",
      "No of judgement not in ground thruth: 4\n",
      "######################################\n",
      "File Id: 14\n",
      "No of judgement with rel 3: 0\n",
      "No of judgement with rel 2: 0\n",
      "No of judgement with rel 1: 1\n",
      "No of judgement with rel 0: 2\n",
      "No of judgement not in ground thruth: 7\n",
      "######################################\n",
      "File Id: 16\n",
      "No of judgement with rel 3: 1\n",
      "No of judgement with rel 2: 1\n",
      "No of judgement with rel 1: 3\n",
      "No of judgement with rel 0: 1\n",
      "No of judgement not in ground thruth: 4\n",
      "######################################\n",
      "File Id: 17\n",
      "No of judgement with rel 3: 1\n",
      "No of judgement with rel 2: 3\n",
      "No of judgement with rel 1: 1\n",
      "No of judgement with rel 0: 1\n",
      "No of judgement not in ground thruth: 4\n",
      "######################################\n",
      "File Id: 18\n",
      "No of judgement with rel 3: 1\n",
      "No of judgement with rel 2: 1\n",
      "No of judgement with rel 1: 2\n",
      "No of judgement with rel 0: 2\n",
      "No of judgement not in ground thruth: 4\n",
      "######################################\n",
      "File Id: 22\n",
      "No of judgement with rel 3: 1\n",
      "No of judgement with rel 2: 2\n",
      "No of judgement with rel 1: 3\n",
      "No of judgement with rel 0: 1\n",
      "No of judgement not in ground thruth: 3\n",
      "######################################\n",
      "File Id: 26\n",
      "No of judgement with rel 3: 0\n",
      "No of judgement with rel 2: 1\n",
      "No of judgement with rel 1: 5\n",
      "No of judgement with rel 0: 0\n",
      "No of judgement not in ground thruth: 4\n",
      "######################################\n",
      "File Id: 29\n",
      "No of judgement with rel 3: 1\n",
      "No of judgement with rel 2: 2\n",
      "No of judgement with rel 1: 1\n",
      "No of judgement with rel 0: 1\n",
      "No of judgement not in ground thruth: 5\n",
      "######################################\n",
      "File Id: 34\n",
      "No of judgement with rel 3: 1\n",
      "No of judgement with rel 2: 0\n",
      "No of judgement with rel 1: 0\n",
      "No of judgement with rel 0: 4\n",
      "No of judgement not in ground thruth: 5\n",
      "######################################\n",
      "File Id: 35\n",
      "No of judgement with rel 3: 1\n",
      "No of judgement with rel 2: 0\n",
      "No of judgement with rel 1: 3\n",
      "No of judgement with rel 0: 1\n",
      "No of judgement not in ground thruth: 5\n",
      "######################################\n",
      "File Id: 36\n",
      "No of judgement with rel 3: 0\n",
      "No of judgement with rel 2: 0\n",
      "No of judgement with rel 1: 0\n",
      "No of judgement with rel 0: 0\n",
      "No of judgement not in ground thruth: 10\n",
      "######################################\n",
      "File Id: 40\n",
      "No of judgement with rel 3: 3\n",
      "No of judgement with rel 2: 0\n",
      "No of judgement with rel 1: 2\n",
      "No of judgement with rel 0: 1\n",
      "No of judgement not in ground thruth: 4\n",
      "######################################\n",
      "File Id: 45\n",
      "No of judgement with rel 3: 1\n",
      "No of judgement with rel 2: 2\n",
      "No of judgement with rel 1: 0\n",
      "No of judgement with rel 0: 2\n",
      "No of judgement not in ground thruth: 5\n",
      "######################################\n",
      "File Id: 52\n",
      "No of judgement with rel 3: 1\n",
      "No of judgement with rel 2: 0\n",
      "No of judgement with rel 1: 1\n",
      "No of judgement with rel 0: 2\n",
      "No of judgement not in ground thruth: 6\n",
      "######################################\n",
      "File Id: 56\n",
      "No of judgement with rel 3: 1\n",
      "No of judgement with rel 2: 1\n",
      "No of judgement with rel 1: 3\n",
      "No of judgement with rel 0: 1\n",
      "No of judgement not in ground thruth: 4\n",
      "######################################\n",
      "File Id: 63\n",
      "No of judgement with rel 3: 0\n",
      "No of judgement with rel 2: 3\n",
      "No of judgement with rel 1: 2\n",
      "No of judgement with rel 0: 1\n",
      "No of judgement not in ground thruth: 4\n",
      "######################################\n",
      "File Id: 79\n",
      "No of judgement with rel 3: 0\n",
      "No of judgement with rel 2: 0\n",
      "No of judgement with rel 1: 1\n",
      "No of judgement with rel 0: 1\n",
      "No of judgement not in ground thruth: 8\n",
      "######################################\n",
      "File Id: 83\n",
      "No of judgement with rel 3: 0\n",
      "No of judgement with rel 2: 0\n",
      "No of judgement with rel 1: 2\n",
      "No of judgement with rel 0: 0\n",
      "No of judgement not in ground thruth: 8\n",
      "######################################\n",
      "File Id: 88\n",
      "No of judgement with rel 3: 1\n",
      "No of judgement with rel 2: 2\n",
      "No of judgement with rel 1: 0\n",
      "No of judgement with rel 0: 3\n",
      "No of judgement not in ground thruth: 4\n",
      "######################################\n",
      "File Id: 93\n",
      "No of judgement with rel 3: 1\n",
      "No of judgement with rel 2: 1\n",
      "No of judgement with rel 1: 0\n",
      "No of judgement with rel 0: 3\n",
      "No of judgement not in ground thruth: 5\n",
      "######################################\n",
      "File Id: 103\n",
      "No of judgement with rel 3: 2\n",
      "No of judgement with rel 2: 2\n",
      "No of judgement with rel 1: 3\n",
      "No of judgement with rel 0: 0\n",
      "No of judgement not in ground thruth: 3\n",
      "######################################\n",
      "File Id: 128\n",
      "No of judgement with rel 3: 1\n",
      "No of judgement with rel 2: 0\n",
      "No of judgement with rel 1: 1\n",
      "No of judgement with rel 0: 2\n",
      "No of judgement not in ground thruth: 6\n",
      "######################################\n",
      "File Id: 139\n",
      "No of judgement with rel 3: 1\n",
      "No of judgement with rel 2: 1\n",
      "No of judgement with rel 1: 2\n",
      "No of judgement with rel 0: 3\n",
      "No of judgement not in ground thruth: 3\n",
      "######################################\n",
      "File Id: 144\n",
      "No of judgement with rel 3: 1\n",
      "No of judgement with rel 2: 0\n",
      "No of judgement with rel 1: 1\n",
      "No of judgement with rel 0: 2\n",
      "No of judgement not in ground thruth: 6\n",
      "######################################\n",
      "File Id: 145\n",
      "No of judgement with rel 3: 1\n",
      "No of judgement with rel 2: 0\n",
      "No of judgement with rel 1: 0\n",
      "No of judgement with rel 0: 0\n",
      "No of judgement not in ground thruth: 9\n",
      "######################################\n",
      "File Id: 147\n",
      "No of judgement with rel 3: 2\n",
      "No of judgement with rel 2: 2\n",
      "No of judgement with rel 1: 1\n",
      "No of judgement with rel 0: 0\n",
      "No of judgement not in ground thruth: 5\n",
      "######################################\n"
     ]
    }
   ],
   "source": [
    "for entry in op:\n",
    "    file_id=entry[0]\n",
    "    stats=entry[1]\n",
    "    label=['No of judgement with rel 3:','No of judgement with rel 2:','No of judgement with rel 1:','No of judgement with rel 0:','No of judgement not in ground thruth:']\n",
    "    print('File Id:',file_id)\n",
    "    for i in range(5):\n",
    "        print(label[i],stats[i])\n",
    "    print('######################################')"
   ]
  },
  {
   "cell_type": "markdown",
   "metadata": {},
   "source": [
    "## Expertise Metric"
   ]
  },
  {
   "cell_type": "code",
   "execution_count": 336,
   "metadata": {},
   "outputs": [],
   "source": [
    "def expertise(res,k,query):\n",
    "    clean_text=list(word_tokenize(cleantext(query))) \n",
    "    bow_text=dictionary.doc2bow(clean_text)\n",
    "    tfidf_text=tfidf[bow_text]\n",
    "    topic=lda_model[tfidf_text]\n",
    "\n",
    "    topic_vec=np.zeros(num_topics)\n",
    "    for ind,wt in topic:\n",
    "        topic_vec[ind]=wt\n",
    "    \n",
    "    expert_scr=0\n",
    "    for i in range(k):\n",
    "        temp_scr=1-cosine(topic_vec,reviewer_vec[res[i]-1])\n",
    "        if np.isnan(temp_scr):\n",
    "            temp_scr=0\n",
    "        expert_scr+=temp_scr\n",
    "    \n",
    "    expert_scr=expert_scr/k\n",
    "    \n",
    "    return expert_scr\n",
    "    "
   ]
  },
  {
   "cell_type": "code",
   "execution_count": 337,
   "metadata": {},
   "outputs": [],
   "source": [
    "test_abs=pd.read_pickle('test_abs')\n",
    "n=len(test_abs)\n",
    "ctr=0\n",
    "expertise_k=[0]*11\n",
    "valid_file=list(judge.keys())\n",
    "for i in range(n):\n",
    "    if i in valid_file:        \n",
    "        res=predict(test_abs['abstract'].iloc[i])\n",
    "        #print(res)\n",
    "        for k in range(1,11):\n",
    "            expertise_k[k]+=expertise(res,k,test_abs['abstract'].iloc[i])\n",
    "        ctr+=1\n",
    "avg_expertise_k=[ele/ctr for ele in expertise_k]"
   ]
  },
  {
   "cell_type": "code",
   "execution_count": 338,
   "metadata": {
    "scrolled": true
   },
   "outputs": [
    {
     "data": {
      "text/plain": [
       "[0.7668277469595643,\n",
       " 0.7212900274873323,\n",
       " 0.7128708883252811,\n",
       " 0.6981370907646861,\n",
       " 0.6881152635070239,\n",
       " 0.6897492248827924,\n",
       " 0.6846105824308703,\n",
       " 0.6793597162338412,\n",
       " 0.6770969799301807,\n",
       " 0.6828991189643149]"
      ]
     },
     "execution_count": 338,
     "metadata": {},
     "output_type": "execute_result"
    }
   ],
   "source": [
    "avg_expertise_k[1:]"
   ]
  },
  {
   "cell_type": "code",
   "execution_count": 549,
   "metadata": {},
   "outputs": [
    {
     "data": {
      "text/plain": [
       "0.75"
      ]
     },
     "execution_count": 549,
     "metadata": {},
     "output_type": "execute_result"
    }
   ],
   "source": [
    "from sklearn.metrics import jaccard_similarity_score\n",
    "a=[0,0,0,1]\n",
    "b=[1,0,0,1]\n",
    "jaccard_similarity_score(a,b)  "
   ]
  },
  {
   "cell_type": "markdown",
   "metadata": {},
   "source": [
    "## Authority Metrics"
   ]
  },
  {
   "cell_type": "code",
   "execution_count": 339,
   "metadata": {},
   "outputs": [],
   "source": [
    "path1=cwd+sym+'Saved_Items'+sym\n",
    "hind=pd.read_csv(path1+'hIndex.txt',header=None)\n",
    "hind=list(hind[0])\n",
    "\n",
    "def authority_k(res,k):\n",
    "    authority=0\n",
    "    for i in range(k):\n",
    "        authority+=hind[res[i]-1]\n",
    "    authority=authority/k\n",
    "    return authority\n",
    "    \n",
    "    "
   ]
  },
  {
   "cell_type": "code",
   "execution_count": 340,
   "metadata": {},
   "outputs": [],
   "source": [
    "test_abs=pd.read_pickle('test_abs')\n",
    "n=len(test_abs)\n",
    "ctr=0\n",
    "authority_k_net=[0]*11\n",
    "valid_file=list(judge.keys())\n",
    "for i in range(n):\n",
    "    if i in valid_file:        \n",
    "        res=predict(test_abs['abstract'].iloc[i])\n",
    "        #print(res)\n",
    "        for k in range(1,11):\n",
    "            authority_k_net[k]+=authority_k(res,k)\n",
    "        ctr+=1\n",
    "authority_k_res=[ele/ctr for ele in authority_k_net]"
   ]
  },
  {
   "cell_type": "code",
   "execution_count": 341,
   "metadata": {},
   "outputs": [
    {
     "data": {
      "text/plain": [
       "[21.88235294117647,\n",
       " 38.661764705882355,\n",
       " 37.2156862745098,\n",
       " 37.080882352941174,\n",
       " 37.23529411764706,\n",
       " 37.50490196078431,\n",
       " 37.7142857142857,\n",
       " 37.23529411764706,\n",
       " 36.98366013071895,\n",
       " 37.247058823529414]"
      ]
     },
     "execution_count": 341,
     "metadata": {},
     "output_type": "execute_result"
    }
   ],
   "source": [
    "authority_k_res[1:]"
   ]
  },
  {
   "cell_type": "markdown",
   "metadata": {},
   "source": [
    "## Diversity Metrics"
   ]
  },
  {
   "cell_type": "code",
   "execution_count": 473,
   "metadata": {},
   "outputs": [],
   "source": [
    "def KL(p,q):\n",
    "    \"\"\" Epsilon is used here to avoid conditional code for\n",
    "    checking that neither P nor Q is equal to 0. \"\"\"\n",
    "    epsilon = 0.00001\n",
    "    \n",
    "    # You may want to instead make copies to avoid changing the np arrays.\n",
    "    vec1=reviewer_vec[p-1]\n",
    "    vec2=reviewer_vec[q-1]\n",
    "    \n",
    "    vec1=np.array(vec1)\n",
    "    v1sum=np.sum(vec1)\n",
    "    vec2=np.array(vec2)\n",
    "    v2sum=np.sum(vec2)\n",
    "\n",
    "    vec1=np.divide(vec1,v1sum)\n",
    "    vec2=np.divide(vec2,v2sum)\n",
    "        \n",
    "    vec1 = vec1+epsilon\n",
    "    vec2 = vec2+epsilon\n",
    "    \n",
    "    if v1sum==0 or v2sum==0:\n",
    "        return 0\n",
    "\n",
    "    divergence = np.sum(vec1*np.log10(vec1/vec2))\n",
    "    return divergence\n",
    "\n",
    "def diversity(res):\n",
    "    div=0\n",
    "    n=len(res)\n",
    "    for i in range(n):\n",
    "        for j in range(n):\n",
    "            div+=KL(res[i],res[j])\n",
    "    div=div/(n*(n-1))\n",
    "    return div\n",
    "    "
   ]
  },
  {
   "cell_type": "code",
   "execution_count": 343,
   "metadata": {},
   "outputs": [],
   "source": [
    "test_abs=pd.read_pickle('test_abs')\n",
    "n=len(test_abs)\n",
    "ctr=0\n",
    "diverse=0\n",
    "valid_file=list(judge.keys())\n",
    "for i in range(n):\n",
    "    if i in valid_file:        \n",
    "        res=predict(test_abs['abstract'].iloc[i])\n",
    "        diverse+=diversity(res)\n",
    "        ctr+=1\n",
    "diverse=diverse/ctr"
   ]
  },
  {
   "cell_type": "code",
   "execution_count": 344,
   "metadata": {},
   "outputs": [
    {
     "data": {
      "text/plain": [
       "0.4415717476301809"
      ]
     },
     "execution_count": 344,
     "metadata": {},
     "output_type": "execute_result"
    }
   ],
   "source": [
    "diverse"
   ]
  },
  {
   "cell_type": "markdown",
   "metadata": {},
   "source": [
    "## Alternative Diversity Metrics"
   ]
  },
  {
   "cell_type": "code",
   "execution_count": 432,
   "metadata": {},
   "outputs": [],
   "source": [
    "from sklearn.metrics.pairwise import cosine_similarity\n",
    "def diversity(res):\n",
    "    div=0\n",
    "    n=len(res)\n",
    "    for i in range(n):\n",
    "        for j in range(n):\n",
    "            sim=cosine_similarity([reviewer_vec[res[i]-1],reviewer_vec[res[j]-1]])\n",
    "            sim=sim[0][1]\n",
    "            div+=1-sim\n",
    "    div=div/(n*(n-1))\n",
    "    return div\n",
    "    "
   ]
  },
  {
   "cell_type": "code",
   "execution_count": 388,
   "metadata": {},
   "outputs": [],
   "source": [
    "test_abs=pd.read_pickle('test_abs')\n",
    "n=len(test_abs)\n",
    "ctr=0\n",
    "diverse=0\n",
    "valid_file=list(judge.keys())\n",
    "for i in range(n):\n",
    "    if i in valid_file:        \n",
    "        res=predict(test_abs['abstract'].iloc[i])\n",
    "        diverse+=diversity(res)\n",
    "        ctr+=1\n",
    "diverse=diverse/ctr"
   ]
  },
  {
   "cell_type": "code",
   "execution_count": 389,
   "metadata": {},
   "outputs": [
    {
     "data": {
      "text/plain": [
       "0.2998115047827517"
      ]
     },
     "execution_count": 389,
     "metadata": {},
     "output_type": "execute_result"
    }
   ],
   "source": [
    "diverse"
   ]
  },
  {
   "cell_type": "markdown",
   "metadata": {},
   "source": [
    "## Language model"
   ]
  },
  {
   "cell_type": "code",
   "execution_count": 120,
   "metadata": {},
   "outputs": [],
   "source": [
    "with open(path1+'reviewer_text.pkl','rb') as f:\n",
    "    reviewer_text=pickle.load(f)"
   ]
  },
  {
   "cell_type": "code",
   "execution_count": 158,
   "metadata": {},
   "outputs": [],
   "source": [
    "sent_tokenize = lambda x: re.split(r'(?<=[^A-Z].[.?]) +(?=[A-Z])', x)"
   ]
  },
  {
   "cell_type": "code",
   "execution_count": 193,
   "metadata": {},
   "outputs": [],
   "source": [
    "text_set=list(reviewer_text.values())\n",
    "docs=list(map(cleantext,text_set))\n",
    "tokenize_doc=[list(word_tokenize(doc)) for doc in docs]\n",
    "corpus=' '.join(docs)"
   ]
  },
  {
   "cell_type": "code",
   "execution_count": 196,
   "metadata": {},
   "outputs": [],
   "source": [
    "from nltk.util import ngrams\n",
    "bigram_doc=[]\n",
    "for doc in tokenize_doc:\n",
    "    c=Counter(ngrams(doc,2))\n",
    "    bigram_doc.append(c)"
   ]
  },
  {
   "cell_type": "code",
   "execution_count": 194,
   "metadata": {},
   "outputs": [],
   "source": [
    "tokenize_corpus=list(word_tokenize(corpus))\n",
    "bigram_corpus=Counter(ngrams(tokenize_corpus,2))"
   ]
  },
  {
   "cell_type": "code",
   "execution_count": 277,
   "metadata": {},
   "outputs": [],
   "source": [
    "corpus_size=len(tokenize_corpus)\n",
    "def predict_lm(bigram_corpus,bigram_doc,query,tokenize_doc):\n",
    "    prob_score=[]\n",
    "    token_list=list(word_tokenize(query))\n",
    "    bigram_query=Counter(ngrams(token_list,2))\n",
    "    mu=2000 #Dirchlet smoothing Parameter\n",
    "    for ind,doc in enumerate(bigram_doc):\n",
    "        nd=len(tokenize_doc[ind])\n",
    "        scr=1\n",
    "        for bigram in bigram_query.keys():\n",
    "            if bigram in doc:\n",
    "                prob_doc=doc[bigram]/(nd-1)\n",
    "                prob_net=bigram_corpus[bigram]/(corpus_size-1)\n",
    "            else:\n",
    "                prob_doc=0\n",
    "                if bigram in bigram_corpus:\n",
    "                    prob_net=bigram_corpus[bigram]/(corpus_size-1)\n",
    "                else:\n",
    "                    prob_net=1/(2*corpus_size-1)               \n",
    "            scr=scr*(((nd*prob_doc)/(nd+mu))+(mu*prob_net)/(nd+mu))\n",
    "        prob_score.append(scr)\n",
    "    \n",
    "    prob_score=np.array(prob_score)\n",
    "    val=prob_score.argsort()[-10:][::-1]\n",
    "    #op=new_state.argsort()[::-1]\n",
    "    res=[ele+1 for ele in val]\n",
    "    \n",
    "    return res\n",
    "    "
   ]
  },
  {
   "cell_type": "code",
   "execution_count": 276,
   "metadata": {},
   "outputs": [
    {
     "data": {
      "text/plain": [
       "0"
      ]
     },
     "execution_count": 276,
     "metadata": {},
     "output_type": "execute_result"
    }
   ],
   "source": [
    "res=predict_lm(bigram_corpus,bigram_doc,test_abs['abstract'].iloc[i],tokenize_doc)"
   ]
  },
  {
   "cell_type": "code",
   "execution_count": 417,
   "metadata": {},
   "outputs": [],
   "source": [
    "test_abs=pd.read_pickle('test_abs')\n",
    "n=len(test_abs)\n",
    "ctr=0\n",
    "avg_precision=[0]*11\n",
    "valid_file=list(judge.keys())\n",
    "for i in range(n):\n",
    "    if i in valid_file:        \n",
    "        res=res=predict_lm(bigram_corpus,bigram_doc,test_abs['abstract'].iloc[i],tokenize_doc)\n",
    "        #print(res)\n",
    "        for k in range(1,11):\n",
    "            avg_precision[k]+=precision_k_404(res,judge,k,i)\n",
    "        ctr+=1\n",
    "avg_precision=[ele/ctr for ele in avg_precision]"
   ]
  },
  {
   "cell_type": "markdown",
   "metadata": {},
   "source": [
    "## Diversity vs Precision"
   ]
  },
  {
   "cell_type": "code",
   "execution_count": 424,
   "metadata": {},
   "outputs": [],
   "source": [
    "def reviewer_label(res,gnd_tht,paper_no):\n",
    "    actual=gnd_tht[paper_no]\n",
    "    actual_auth=[i[0] for i in actual]\n",
    "    rating=[i[1] for i in actual]\n",
    "    n=len(actual)\n",
    "    soft_p=0\n",
    "    n1=len(res)\n",
    "    output=[]\n",
    "    \n",
    "    for i in range(n1):\n",
    "        pred=res[i]\n",
    "        for j in range(n):\n",
    "            if actual_auth[j]==pred:\n",
    "                if rating[j]==3:\n",
    "                    output.append((pred,3))\n",
    "                elif rating[j]==2:\n",
    "                    output.append((pred,2))\n",
    "                elif rating[j]==1:\n",
    "                    output.append((pred,1))\n",
    "                else:\n",
    "                    output.append((pred,0))\n",
    "                    break\n",
    "    rating_gen=reviewer_404(res,gnd_tht,paper_no)\n",
    "    auth_gen=[i[0] for i in rating_gen]\n",
    "    rating_gen=[i[1] for i in rating_gen]\n",
    "    n1=len(auth_gen)\n",
    "    for i in range(k):\n",
    "        pred=res[i]\n",
    "        for j in range(n1):\n",
    "            if auth_gen[j]==pred:\n",
    "                if rating_gen[j]==3:\n",
    "                    output.append((pred,3))\n",
    "                elif rating_gen[j]==2:\n",
    "                    output.append((pred,2))\n",
    "                elif rating_gen[j]==1:\n",
    "                    output.append((pred,1))\n",
    "                else:\n",
    "                    output.append((pred,0))\n",
    "                    break\n",
    "    \n",
    "    return output"
   ]
  },
  {
   "cell_type": "code",
   "execution_count": 425,
   "metadata": {},
   "outputs": [],
   "source": [
    "test_abs=pd.read_pickle('test_abs')\n",
    "n=len(test_abs)\n",
    "ctr=0\n",
    "avg_precision=[0]*11\n",
    "valid_file=list(judge.keys())\n",
    "reviewer_rel=[]\n",
    "for i in range(n):\n",
    "    if i in valid_file:        \n",
    "        res=predict(test_abs['abstract'].iloc[i])\n",
    "        paper_reviewer_rel=reviewer_label(res,judge,i)\n",
    "        reviewer_rel=reviewer_rel+paper_reviewer_rel\n"
   ]
  },
  {
   "cell_type": "code",
   "execution_count": 428,
   "metadata": {},
   "outputs": [],
   "source": [
    "import random"
   ]
  },
  {
   "cell_type": "code",
   "execution_count": 429,
   "metadata": {},
   "outputs": [
    {
     "data": {
      "text/plain": [
       "[(164, 2), (234, 3), (295, 1), (164, 2), (214, 0)]"
      ]
     },
     "execution_count": 429,
     "metadata": {},
     "output_type": "execute_result"
    }
   ],
   "source": [
    "random.sample(reviewer_rel,5)"
   ]
  },
  {
   "cell_type": "code",
   "execution_count": 430,
   "metadata": {},
   "outputs": [
    {
     "data": {
      "text/plain": [
       "[(183, 3),\n",
       " (9, 3),\n",
       " (53, 1),\n",
       " (108, 1),\n",
       " (34, 1),\n",
       " (162, 3),\n",
       " (234, 2),\n",
       " (23, 3),\n",
       " (12, 0),\n",
       " (164, 0),\n",
       " (9, 1),\n",
       " (162, 2),\n",
       " (53, 0),\n",
       " (34, 2),\n",
       " (108, 2),\n",
       " (211, 2),\n",
       " (174, 2),\n",
       " (23, 2),\n",
       " (234, 2),\n",
       " (12, 3),\n",
       " (225, 1),\n",
       " (9, 0),\n",
       " (34, 0),\n",
       " (108, 1),\n",
       " (295, 2),\n",
       " (12, 2),\n",
       " (162, 2),\n",
       " (234, 2),\n",
       " (53, 2),\n",
       " (164, 2),\n",
       " (270, 0),\n",
       " (9, 0),\n",
       " (295, 3),\n",
       " (34, 0),\n",
       " (162, 1),\n",
       " (234, 1),\n",
       " (108, 1),\n",
       " (211, 1),\n",
       " (164, 1),\n",
       " (12, 1),\n",
       " (213, 0),\n",
       " (9, 2),\n",
       " (10, 2),\n",
       " (162, 2),\n",
       " (234, 2),\n",
       " (108, 2),\n",
       " (106, 1),\n",
       " (145, 2),\n",
       " (164, 2),\n",
       " (53, 2),\n",
       " (218, 3),\n",
       " (9, 1),\n",
       " (108, 3),\n",
       " (34, 0),\n",
       " (234, 1),\n",
       " (162, 1),\n",
       " (164, 1),\n",
       " (53, 1),\n",
       " (106, 1),\n",
       " (12, 1),\n",
       " (214, 0),\n",
       " (9, 3),\n",
       " (108, 1),\n",
       " (211, 1),\n",
       " (228, 0),\n",
       " (34, 0),\n",
       " (234, 3),\n",
       " (162, 1),\n",
       " (164, 1),\n",
       " (23, 3),\n",
       " (9, 2),\n",
       " (162, 3),\n",
       " (34, 1),\n",
       " (53, 3),\n",
       " (197, 3),\n",
       " (234, 3),\n",
       " (108, 3),\n",
       " (211, 3),\n",
       " (23, 3),\n",
       " (164, 3),\n",
       " (78, 1),\n",
       " (9, 3),\n",
       " (108, 3),\n",
       " (12, 2),\n",
       " (34, 3),\n",
       " (295, 2),\n",
       " (162, 3),\n",
       " (234, 3),\n",
       " (53, 3),\n",
       " (164, 3),\n",
       " (295, 1),\n",
       " (162, 0),\n",
       " (34, 0),\n",
       " (203, 0),\n",
       " (309, 0),\n",
       " (166, 3),\n",
       " (12, 0),\n",
       " (164, 3),\n",
       " (211, 3),\n",
       " (86, 3),\n",
       " (235, 0),\n",
       " (9, 1),\n",
       " (108, 3),\n",
       " (34, 2),\n",
       " (295, 1),\n",
       " (10, 1),\n",
       " (234, 3),\n",
       " (162, 3),\n",
       " (164, 3),\n",
       " (53, 3),\n",
       " (224, 3),\n",
       " (9, 2),\n",
       " (12, 2),\n",
       " (108, 2),\n",
       " (34, 1),\n",
       " (295, 0),\n",
       " (234, 2),\n",
       " (162, 2),\n",
       " (164, 2),\n",
       " (53, 2),\n",
       " (9, 2),\n",
       " (162, 0),\n",
       " (108, 3),\n",
       " (34, 1),\n",
       " (295, 1),\n",
       " (53, 0),\n",
       " (209, 3),\n",
       " (234, 3),\n",
       " (164, 3),\n",
       " (211, 3),\n",
       " (132, 3),\n",
       " (106, 1),\n",
       " (34, 1),\n",
       " (295, 0),\n",
       " (9, 2),\n",
       " (99, 2),\n",
       " (10, 1),\n",
       " (162, 2),\n",
       " (234, 2),\n",
       " (164, 2),\n",
       " (132, 1),\n",
       " (106, 1),\n",
       " (34, 1),\n",
       " (295, 2),\n",
       " (9, 1),\n",
       " (10, 1),\n",
       " (162, 1),\n",
       " (234, 1),\n",
       " (99, 1),\n",
       " (164, 1),\n",
       " (234, 3),\n",
       " (9, 0),\n",
       " (108, 2),\n",
       " (34, 1),\n",
       " (295, 2),\n",
       " (162, 3),\n",
       " (164, 3),\n",
       " (211, 3),\n",
       " (53, 3),\n",
       " (23, 3),\n",
       " (9, 0),\n",
       " (108, 3),\n",
       " (34, 0),\n",
       " (211, 0),\n",
       " (295, 0),\n",
       " (209, 1),\n",
       " (162, 1),\n",
       " (234, 1),\n",
       " (164, 1),\n",
       " (53, 1),\n",
       " (197, 1),\n",
       " (9, 1),\n",
       " (162, 0),\n",
       " (53, 1),\n",
       " (34, 3),\n",
       " (234, 3),\n",
       " (108, 3),\n",
       " (211, 3),\n",
       " (23, 3),\n",
       " (164, 3),\n",
       " (36, 2),\n",
       " (68, 2),\n",
       " (325, 2),\n",
       " (75, 2),\n",
       " (198, 0),\n",
       " (232, 2),\n",
       " (217, 0),\n",
       " (248, 2),\n",
       " (148, 2),\n",
       " (58, 2),\n",
       " (286, 3),\n",
       " (10, 3),\n",
       " (9, 1),\n",
       " (34, 1),\n",
       " (295, 0),\n",
       " (176, 3),\n",
       " (162, 1),\n",
       " (234, 1),\n",
       " (108, 1),\n",
       " (211, 1),\n",
       " (12, 2),\n",
       " (9, 3),\n",
       " (108, 0),\n",
       " (34, 2),\n",
       " (295, 0),\n",
       " (162, 2),\n",
       " (234, 2),\n",
       " (53, 2),\n",
       " (164, 2),\n",
       " (211, 2),\n",
       " (309, 0),\n",
       " (295, 3),\n",
       " (34, 0),\n",
       " (9, 1),\n",
       " (162, 1),\n",
       " (106, 3),\n",
       " (234, 1),\n",
       " (164, 3),\n",
       " (108, 1),\n",
       " (53, 3),\n",
       " (119, 1),\n",
       " (9, 1),\n",
       " (34, 3),\n",
       " (53, 1),\n",
       " (10, 0),\n",
       " (295, 2),\n",
       " (162, 3),\n",
       " (234, 3),\n",
       " (108, 1),\n",
       " (164, 3),\n",
       " (197, 1),\n",
       " (9, 2),\n",
       " (108, 2),\n",
       " (23, 0),\n",
       " (34, 1),\n",
       " (53, 2),\n",
       " (234, 2),\n",
       " (162, 2),\n",
       " (211, 2),\n",
       " (164, 2),\n",
       " (118, 1),\n",
       " (122, 0),\n",
       " (334, 1),\n",
       " (364, 2),\n",
       " (124, 2),\n",
       " (116, 0),\n",
       " (117, 1),\n",
       " (119, 1),\n",
       " (120, 2),\n",
       " (121, 2),\n",
       " (9, 1),\n",
       " (34, 1),\n",
       " (85, 3),\n",
       " (162, 3),\n",
       " (23, 3),\n",
       " (234, 3),\n",
       " (12, 3),\n",
       " (53, 3),\n",
       " (108, 3),\n",
       " (164, 3),\n",
       " (119, 2),\n",
       " (9, 0),\n",
       " (34, 2),\n",
       " (53, 0),\n",
       " (10, 3),\n",
       " (295, 0),\n",
       " (162, 0),\n",
       " (234, 0),\n",
       " (108, 0),\n",
       " (164, 0),\n",
       " (251, 3),\n",
       " (9, 0),\n",
       " (295, 0),\n",
       " (12, 2),\n",
       " (34, 0),\n",
       " (250, 3),\n",
       " (234, 3),\n",
       " (162, 2),\n",
       " (106, 3),\n",
       " (211, 3),\n",
       " (9, 3),\n",
       " (108, 3),\n",
       " (34, 1),\n",
       " (211, 2),\n",
       " (295, 1),\n",
       " (53, 1),\n",
       " (23, 2),\n",
       " (234, 2),\n",
       " (162, 2),\n",
       " (164, 2),\n",
       " (295, 0),\n",
       " (34, 3),\n",
       " (106, 0),\n",
       " (9, 1),\n",
       " (309, 3),\n",
       " (162, 3),\n",
       " (234, 3),\n",
       " (164, 3),\n",
       " (108, 3),\n",
       " (53, 3),\n",
       " (226, 2),\n",
       " (9, 0),\n",
       " (162, 0),\n",
       " (108, 1),\n",
       " (53, 0),\n",
       " (12, 3),\n",
       " (34, 1),\n",
       " (234, 0),\n",
       " (164, 3),\n",
       " (211, 3),\n",
       " (9, 3),\n",
       " (34, 1),\n",
       " (108, 0),\n",
       " (295, 0),\n",
       " (225, 1),\n",
       " (162, 1),\n",
       " (234, 1),\n",
       " (53, 1),\n",
       " (164, 1),\n",
       " (12, 1),\n",
       " (9, 3),\n",
       " (108, 1),\n",
       " (34, 0),\n",
       " (53, 0),\n",
       " (295, 0),\n",
       " (91, 0),\n",
       " (162, 1),\n",
       " (234, 1),\n",
       " (164, 1),\n",
       " (6, 0),\n",
       " (145, 2),\n",
       " (9, 3),\n",
       " (108, 3),\n",
       " (34, 2),\n",
       " (10, 1),\n",
       " (162, 3),\n",
       " (234, 3),\n",
       " (53, 3),\n",
       " (12, 3),\n",
       " (164, 3)]"
      ]
     },
     "execution_count": 430,
     "metadata": {},
     "output_type": "execute_result"
    }
   ],
   "source": [
    "reviewer_rel"
   ]
  },
  {
   "cell_type": "code",
   "execution_count": 516,
   "metadata": {},
   "outputs": [],
   "source": [
    "bins=[[] for i in range(5)]#Range 0-0.2,0.2-0.4,so on\n",
    "min_entry=15\n",
    "#Upper Bound inclusive "
   ]
  },
  {
   "cell_type": "code",
   "execution_count": 517,
   "metadata": {},
   "outputs": [],
   "source": [
    "for i in range(5):\n",
    "    min_lim=0.2*i\n",
    "    max_lim=0.2*(i+1)\n",
    "    entry=0\n",
    "    while(entry<min_entry):\n",
    "        small_set=random.sample(reviewer_rel,5)\n",
    "        n=len(small_set)\n",
    "        prec_set=[tupule[1] for tupule in small_set]\n",
    "        review_set=[tupule[0] for tupule in small_set]\n",
    "        prec=sum(prec_set)/(len(prec_set)*3)\n",
    "        div=diversity(review_set)\n",
    "        if div>min_lim and div<=max_lim:\n",
    "            entry+=1\n",
    "            bins[i].append((prec,div))\n",
    "            \n",
    "   \n",
    "\n",
    "        "
   ]
  },
  {
   "cell_type": "code",
   "execution_count": 518,
   "metadata": {},
   "outputs": [],
   "source": [
    "prec_set=[]\n",
    "div_set=[]\n",
    "for i in range(5):\n",
    "    samp=[entry[0] for entry in bins[i]]\n",
    "    prec=sum(samp)/min_entry\n",
    "    prec_set.append(prec)\n",
    "    div=0.1+0.2*i\n",
    "    div_set.append(div)"
   ]
  },
  {
   "cell_type": "code",
   "execution_count": 519,
   "metadata": {},
   "outputs": [
    {
     "data": {
      "text/plain": [
       "Text(0, 0.5, 'Precision')"
      ]
     },
     "execution_count": 519,
     "metadata": {},
     "output_type": "execute_result"
    },
    {
     "data": {
      "image/png": "[encoded data removed]",
      "text/plain": [
       "<Figure size 432x288 with 1 Axes>"
      ]
     },
     "metadata": {
      "needs_background": "light"
     },
     "output_type": "display_data"
    }
   ],
   "source": [
    "plt.plot(div_set,prec_set) \n",
    "plt.xlabel('Diversity') \n",
    "plt.ylabel('Precision') \n"
   ]
  },
  {
   "cell_type": "code",
   "execution_count": 521,
   "metadata": {},
   "outputs": [
    {
     "data": {
      "text/plain": [
       "[0.5111111111111112,\n",
       " 0.5777777777777778,\n",
       " 0.6133333333333333,\n",
       " 0.6044444444444443,\n",
       " 0.5333333333333333]"
      ]
     },
     "execution_count": 521,
     "metadata": {},
     "output_type": "execute_result"
    }
   ],
   "source": [
    "prec_set"
   ]
  },
  {
   "cell_type": "code",
   "execution_count": null,
   "metadata": {},
   "outputs": [],
   "source": []
  }
 ],
 "metadata": {
  "kernelspec": {
   "display_name": "Python 3",
   "language": "python",
   "name": "python3"
  },
  "language_info": {
   "codemirror_mode": {
    "name": "ipython",
    "version": 3
   },
   "file_extension": ".py",
   "mimetype": "text/x-python",
   "name": "python",
   "nbconvert_exporter": "python",
   "pygments_lexer": "ipython3",
   "version": "3.7.3"
  }
 },
 "nbformat": 4,
 "nbformat_minor": 2
}
